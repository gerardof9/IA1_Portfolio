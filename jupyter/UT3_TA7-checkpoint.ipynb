{
 "cells": [
  {
   "cell_type": "code",
   "execution_count": 1,
   "id": "47811818",
   "metadata": {},
   "outputs": [],
   "source": [
    "import matplotlib \n",
    "import matplotlib.pyplot as plt \n",
    "import pandas as pd \n",
    "from sklearn.discriminant_analysis import LinearDiscriminantAnalysis \n",
    "from sklearn.linear_model import LogisticRegression\n",
    "from sklearn.metrics import confusion_matrix, classification_report \n",
    "from sklearn.model_selection import train_test_split "
   ]
  },
  {
   "cell_type": "code",
   "execution_count": 2,
   "id": "ce835103",
   "metadata": {},
   "outputs": [
    {
     "name": "stdout",
     "output_type": "stream",
     "text": [
      "[[2.7810836  2.550537   0.        ]\n",
      " [1.46548937 2.36212508 0.        ]\n",
      " [3.39656169 4.40029353 0.        ]\n",
      " [1.38807019 1.85022032 0.        ]\n",
      " [3.06407232 3.00530597 0.        ]\n",
      " [2.2810836  2.950537   0.        ]\n",
      " [1.86548937 2.86212508 0.        ]\n",
      " [3.89656169 4.00029353 0.        ]\n",
      " [1.08807019 1.15022032 0.        ]\n",
      " [3.96407232 3.00530597 0.        ]\n",
      " [7.62753121 2.75926224 1.        ]\n",
      " [5.33244125 2.08862677 1.        ]\n",
      " [6.92259672 1.77106367 1.        ]\n",
      " [8.37541865 0.52068655 1.        ]\n",
      " [7.67375647 3.50856301 1.        ]\n",
      " [6.62753121 2.99262235 1.        ]\n",
      " [6.33244125 1.08862678 1.        ]\n",
      " [5.92259672 1.88106367 1.        ]\n",
      " [8.67541865 0.30206866 1.        ]\n",
      " [7.67375647 1.50856301 1.        ]]\n"
     ]
    }
   ],
   "source": [
    "input_file = \"C:\\\\Repositorio\\\\UCU\\\\IA1\\\\datos\\\\RegresionLogistica-ds1.csv\" \n",
    "df = pd.read_csv(input_file, header=0) \n",
    "print(df.values)"
   ]
  },
  {
   "cell_type": "code",
   "execution_count": null,
   "id": "680a07f0",
   "metadata": {},
   "outputs": [],
   "source": []
  },
  {
   "cell_type": "code",
   "execution_count": null,
   "id": "44d320c9",
   "metadata": {},
   "outputs": [],
   "source": []
  },
  {
   "cell_type": "code",
   "execution_count": null,
   "id": "86dc1282",
   "metadata": {},
   "outputs": [],
   "source": []
  },
  {
   "cell_type": "code",
   "execution_count": null,
   "id": "a5129721",
   "metadata": {},
   "outputs": [],
   "source": []
  }
 ],
 "metadata": {
  "kernelspec": {
   "display_name": "Python 3 (ipykernel)",
   "language": "python",
   "name": "python3"
  },
  "language_info": {
   "codemirror_mode": {
    "name": "ipython",
    "version": 3
   },
   "file_extension": ".py",
   "mimetype": "text/x-python",
   "name": "python",
   "nbconvert_exporter": "python",
   "pygments_lexer": "ipython3",
   "version": "3.9.5"
  }
 },
 "nbformat": 4,
 "nbformat_minor": 5
}
