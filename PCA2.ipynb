{
  "nbformat": 4,
  "nbformat_minor": 0,
  "metadata": {
    "colab": {
      "name": "PCA",
      "provenance": [],
      "collapsed_sections": [
        "3QdrQ9N_VdqU"
      ],
      "authorship_tag": "ABX9TyPQey/iyaGbWPiQL2n2TWTa"
    },
    "kernelspec": {
      "name": "python3",
      "display_name": "Python 3"
    },
    "language_info": {
      "name": "python"
    }
  },
  "cells": [
    {
      "cell_type": "markdown",
      "metadata": {
        "id": "3QdrQ9N_VdqU"
      },
      "source": [
        "### **Contexto**\n",
        "\n",
        "El análisis de componentes principales (PCA) es uno de los algoritmos de aprendizaje automático no supervisado más utilizados por una gran variedad de aplicaciones: análisis de datos exploratorios, reducción de dimensionalidad, compresión de información, eliminación de ruido en datos entre otros.\n",
        "\n",
        "Supongamos que tenemos un conjunto de datos con m atributos (o variables). Estos podrían ser, por ejemplo, precios de alimentos, cifras de ventas semanales, número de horas trabajadas, índices económicos, etc.; en definitiva cualquier  que pueda tener un impacto en otro atributo que es capturado por una etiqueta o variable de destino.\n",
        "La pregunta que PCA nos ayuda a responder fundamentalmente es la siguiente: ¿Cuál de estos m atributos explican una variación significativa de los datos.?\n",
        "PCA esencialmente ayuda a aplicar la regla 80/20: Puede un pequeño subconjunto de atributos (el 20%) explica el 80% o más de la variación en los datos?\n",
        "El algoritmo captura los atributos que contienen la mayor cantidad de variabilidad en el conjunto de datos. Lo hace transformando las variables existentes en un conjunto de componentes principales o nuevas variables que tienen las siguientes propiedades\n",
        "\n",
        "* No están correlacionadas entre sí.\n",
        "* Juntos explican o contienen la mayor varianza de los datos.\n",
        "* Se pueden vincular con los campos originales a través de factores de peso.\n",
        "\n",
        "Los componentes principales son vectores, pero no se eligen al azar. El primer componente principal se calcula de modo que explique la mayor cantidad de varianza en los campos originales. El segundo componente es ortogonal al primero y explica la mayor cantidad de varianza que queda después del primer componente principal.\n",
        "\n",
        "Los datos originales se pueden representar como vectores de atributos. PCA nos permite ir un paso más allá y representar los datos como combinaciones lineales de componentes principales. Obtener componentes principales equivale a una transformación lineal de datos desde los ejes atributo1 x atributo2 a ejes PCA1 x PCA2.\n",
        "\n",
        "En conjuntos de datos muy grandes (donde el número de dimensiones puede superar las 100 variables diferentes), los componentes principales eliminan el ruido al reducir una gran cantidad de características a solo un par de componentes principales. Los componentes principales son proyecciones ortogonales de datos en un espacio de menor dimensión.\n",
        "\n",
        "En teoría, PCA produce la misma cantidad de componentes principales que la cantidad de atributos en el conjunto de datos original. En la práctica, sin embargo, no conservamos todos los componentes principales. Cada componente principal sucesivo explica la varianza que queda después de su componente anterior, por lo que seleccionar solo algunos de los primeros componentes se aproxima suficientemente al conjunto de datos original sin la necesidad de características adicionales. \n",
        "El resultado es un nuevo conjunto de atributos formado por componentes principales.\n",
        "\n",
        "El cálculo del PCA involucra una serie de cálculos algebraicos que se resumen en los siguientes pasos:\n",
        "\n",
        "1.   Estandarizar los datos. (con media = 0 y varianza = 1)\n",
        "2.   Calcular la matriz de covarianza de dimensiones.\n",
        "3.   Obtener los vectores propios (eigenvectors)  y valores propios (eigenvalues) de la matriz de covarianza.\n",
        "4.   Ordene los eigenvalues en orden descendente y elegir los k eigenvectors  \n",
        "     mayores  que correspondan a los k eigenvalues más grandes (k se  \n",
        "     convertirá en el número de dimensiones del subespacio de\n",
        "     características   nuevas, d es el número de dimensiones originales).\n",
        "5.   Construir la matriz de proyección W a partir de los k eigenvectors seleccionados.\n",
        "6.   Transformar el conjunto de datos original X a través de W para obtener el nuevo subespacio Y de características k-dimensionales\n",
        "\n",
        "Afortunadamente, herramientas como Python o Rapidminer tienen librerías u operadores que realizan todos estos pasos y por lo tanto el calculo de los componentes principales es mucho mas rápido.\n",
        "\n",
        "Las ventajas de PCA son varias, entre ellas se encuentran:\n",
        "\n",
        "* Visualizar información multidimensional \n",
        "* Comprimir información\n",
        "* Reducir dimensiones\n",
        "* Eliminar ruido en los datos\n",
        "* Reducir el tiempo computacional\n",
        "* Permite eliminar atributos redundantes\n",
        "* Eliminar atributos correlacionados\n",
        "* Graficar en dos dimensiones permite visualizar más claramente la información \n",
        " e identificar patrones\n",
        "\n",
        "Sin embargo, todas estas ventajas acarrean un costo asociado, y es la pérdida de información que se genera cuando se reduce la dimensionalidad. Aunque la reducción de la dimensionalidad es útil, tiene un costo. Equilibrar la reducción de la dimensionalidad y la pérdida de información es un compromiso necesario que tenemos que hacer al utilizar PCA. \n",
        "También es cierto que si bien los componentes son combinaciones lineales de las características de los datos originales, no son tan fáciles de interpretar. Por ejemplo, es difícil saber cuáles son los atributos más importantes del conjunto de datos después de calcular los componentes principales.\n",
        "\n"
      ]
    },
    {
      "cell_type": "markdown",
      "metadata": {
        "id": "Tg5NIQxZQvL_"
      },
      "source": [
        "## **Caso de estudio**\n",
        "\n",
        "El cáncer de mama (CM) es uno de los cánceres más comunes entre las mujeres en todo el mundo, y representa la mayoría de los casos nuevos de cáncer y muertes relacionadas según las estadísticas mundiales, lo que lo convierte en un problema de salud pública importante en la sociedad actual.\n",
        "\n",
        "El diagnóstico temprano de CM puede mejorar significativamente el pronóstico y la probabilidad de supervivencia, ya que permite promover el tratamiento clínico oportuno de los pacientes. Una clasificación más precisa de los tumores benignos puede evitar que los pacientes se sometan a tratamientos innecesarios. Por lo tanto, el diagnóstico correcto de CM y la clasificación de los pacientes en grupos malignos o benignos es objeto de mucha investigación. \n",
        "Debido a sus ventajas únicas en la detección de características críticas a partir de conjuntos de datos de CM complejos, el aprendizaje automático  es ampliamente reconocido como la metodología de elección en la clasificación de patrones de BC y el modelado de pronóstico.\n",
        "Especialmente en el campo médico, métodos como clasificación y minería de datos se utilizan ampliamente en el diagnóstico y análisis para tomar decisiones.\n",
        "\n",
        "El objetivo de este artículo es mediante Python aplicar el concepto de Componentes Principales a un dataset complejo y obtener no solo una reducción de sus dimensiones sino una mejora en su visualizacion e interpretación.\n",
        "\n",
        "\n",
        "## **Dataset**\n",
        "\n",
        "El conjunto de datos de cáncer de mama pertenece al UCI Machine Learning Repository y es un dataset multivariante con datos reales tomados de pacientes que consta de dos clases, donde cada clase significa si una paciente tiene cáncer de mama o no. Las dos categorías son: maligno y benigno.\n",
        "\n",
        "La clase maligna tiene 212 muestras, mientras que la clase benigna tiene 357 muestras.\n"
      ]
    },
    {
      "cell_type": "markdown",
      "metadata": {
        "id": "ma-8uVgnzpKQ"
      },
      "source": [
        "#####Breast cancer wisconsin (diagnostic) dataset\n",
        "\n",
        "    :Number of Instances: 569\n",
        "\n",
        "    :Number of Attributes: 30 numeric, predictive attributes and the class\n",
        "\n",
        "    :Attribute Information:\n",
        "        - radius (mean of distances from center to points on the perimeter)\n",
        "        - texture (standard deviation of gray-scale values)\n",
        "        - perimeter\n",
        "        - area\n",
        "        - smoothness (local variation in radius lengths)\n",
        "        - compactness (perimeter^2 / area - 1.0)\n",
        "        - concavity (severity of concave portions of the contour)\n",
        "        - concave points (number of concave portions of the contour)\n",
        "        - symmetry\n",
        "        - fractal dimension (\"coastline approximation\" - 1)\n",
        "\n",
        "        The mean, standard error, and \"worst\" or largest (mean of the three\n",
        "        worst/largest values) of these features were computed for each image,\n",
        "        resulting in 30 features.  For instance, field 0 is Mean Radius, field\n",
        "        10 is Radius SE, field 20 is Worst Radius.\n",
        "\n",
        "        - class:\n",
        "                - WDBC-Malignant\n",
        "                - WDBC-Benign\n",
        "\n",
        "    :Summary Statistics:\n",
        "\n",
        "    ===================================== ====== ======\n",
        "                                           Min    Max\n",
        "    ===================================== ====== ======\n",
        "    radius (mean):                        6.981  28.11\n",
        "    texture (mean):                       9.71   39.28\n",
        "    perimeter (mean):                     43.79  188.5\n",
        "    area (mean):                          143.5  2501.0\n",
        "    smoothness (mean):                    0.053  0.163\n",
        "    compactness (mean):                   0.019  0.345\n",
        "    concavity (mean):                     0.0    0.427\n",
        "    concave points (mean):                0.0    0.201\n",
        "    symmetry (mean):                      0.106  0.304\n",
        "    fractal dimension (mean):             0.05   0.097\n",
        "    radius (standard error):              0.112  2.873\n",
        "    texture (standard error):             0.36   4.885\n",
        "    perimeter (standard error):           0.757  21.98\n",
        "    area (standard error):                6.802  542.2\n",
        "    smoothness (standard error):          0.002  0.031\n",
        "    compactness (standard error):         0.002  0.135\n",
        "    concavity (standard error):           0.0    0.396\n",
        "    concave points (standard error):      0.0    0.053\n",
        "    symmetry (standard error):            0.008  0.079\n",
        "    fractal dimension (standard error):   0.001  0.03\n",
        "    radius (worst):                       7.93   36.04\n",
        "    texture (worst):                      12.02  49.54\n",
        "    perimeter (worst):                    50.41  251.2\n",
        "    area (worst):                         185.2  4254.0\n",
        "    smoothness (worst):                   0.071  0.223\n",
        "    compactness (worst):                  0.027  1.058\n",
        "    concavity (worst):                    0.0    1.252\n",
        "    concave points (worst):               0.0    0.291\n",
        "    symmetry (worst):                     0.156  0.664\n",
        "    fractal dimension (worst):            0.055  0.208\n",
        "    ===================================== ====== ======\n",
        "\n",
        "    :Missing Attribute Values: None\n",
        "\n",
        "    :Class Distribution: 212 - Malignant, 357 - Benign\n",
        "\n",
        "    "
      ]
    },
    {
      "cell_type": "code",
      "metadata": {
        "id": "URooUOyPxzbz"
      },
      "source": [
        "import numpy as np\n",
        "import pandas as pd \n",
        "import matplotlib.pyplot as plt\n",
        "import seaborn as sns\n",
        "%matplotlib inline"
      ],
      "execution_count": 2,
      "outputs": []
    },
    {
      "cell_type": "code",
      "metadata": {
        "colab": {
          "base_uri": "https://localhost:8080/"
        },
        "id": "0O3zCEP7yBdy",
        "outputId": "f68df0a6-b195-4369-8419-abc527915a0a"
      },
      "source": [
        "from sklearn.datasets import load_breast_cancer\n",
        "breast = load_breast_cancer()\n",
        "breast.keys()"
      ],
      "execution_count": 3,
      "outputs": [
        {
          "output_type": "execute_result",
          "data": {
            "text/plain": [
              "dict_keys(['data', 'target', 'frame', 'target_names', 'DESCR', 'feature_names', 'filename', 'data_module'])"
            ]
          },
          "metadata": {},
          "execution_count": 3
        }
      ]
    },
    {
      "cell_type": "code",
      "metadata": {
        "colab": {
          "base_uri": "https://localhost:8080/"
        },
        "id": "vNRlzFXG2Wqb",
        "outputId": "b53f1edd-1bc0-4cfa-a803-34a8c904693d"
      },
      "source": [
        "breast_data = breast.data\n",
        "breast_data.shape"
      ],
      "execution_count": 4,
      "outputs": [
        {
          "output_type": "execute_result",
          "data": {
            "text/plain": [
              "(569, 30)"
            ]
          },
          "metadata": {},
          "execution_count": 4
        }
      ]
    },
    {
      "cell_type": "markdown",
      "metadata": {
        "id": "HFupa4Mi3sZs"
      },
      "source": [
        "Cargamos el dataset en un data frame y desplegamos las primeras lineas:"
      ]
    },
    {
      "cell_type": "code",
      "metadata": {
        "colab": {
          "base_uri": "https://localhost:8080/",
          "height": 258
        },
        "id": "XoI_dS0n3tz0",
        "outputId": "c98bced8-e95c-4210-9f9b-a957649c1434"
      },
      "source": [
        "df = pd.DataFrame(breast['data'], columns=breast['feature_names'])\n",
        "df.head()"
      ],
      "execution_count": 5,
      "outputs": [
        {
          "output_type": "execute_result",
          "data": {
            "text/html": [
              "<div>\n",
              "<style scoped>\n",
              "    .dataframe tbody tr th:only-of-type {\n",
              "        vertical-align: middle;\n",
              "    }\n",
              "\n",
              "    .dataframe tbody tr th {\n",
              "        vertical-align: top;\n",
              "    }\n",
              "\n",
              "    .dataframe thead th {\n",
              "        text-align: right;\n",
              "    }\n",
              "</style>\n",
              "<table border=\"1\" class=\"dataframe\">\n",
              "  <thead>\n",
              "    <tr style=\"text-align: right;\">\n",
              "      <th></th>\n",
              "      <th>mean radius</th>\n",
              "      <th>mean texture</th>\n",
              "      <th>mean perimeter</th>\n",
              "      <th>mean area</th>\n",
              "      <th>mean smoothness</th>\n",
              "      <th>mean compactness</th>\n",
              "      <th>mean concavity</th>\n",
              "      <th>mean concave points</th>\n",
              "      <th>mean symmetry</th>\n",
              "      <th>mean fractal dimension</th>\n",
              "      <th>radius error</th>\n",
              "      <th>texture error</th>\n",
              "      <th>perimeter error</th>\n",
              "      <th>area error</th>\n",
              "      <th>smoothness error</th>\n",
              "      <th>compactness error</th>\n",
              "      <th>concavity error</th>\n",
              "      <th>concave points error</th>\n",
              "      <th>symmetry error</th>\n",
              "      <th>fractal dimension error</th>\n",
              "      <th>worst radius</th>\n",
              "      <th>worst texture</th>\n",
              "      <th>worst perimeter</th>\n",
              "      <th>worst area</th>\n",
              "      <th>worst smoothness</th>\n",
              "      <th>worst compactness</th>\n",
              "      <th>worst concavity</th>\n",
              "      <th>worst concave points</th>\n",
              "      <th>worst symmetry</th>\n",
              "      <th>worst fractal dimension</th>\n",
              "    </tr>\n",
              "  </thead>\n",
              "  <tbody>\n",
              "    <tr>\n",
              "      <th>0</th>\n",
              "      <td>17.99</td>\n",
              "      <td>10.38</td>\n",
              "      <td>122.80</td>\n",
              "      <td>1001.0</td>\n",
              "      <td>0.11840</td>\n",
              "      <td>0.27760</td>\n",
              "      <td>0.3001</td>\n",
              "      <td>0.14710</td>\n",
              "      <td>0.2419</td>\n",
              "      <td>0.07871</td>\n",
              "      <td>1.0950</td>\n",
              "      <td>0.9053</td>\n",
              "      <td>8.589</td>\n",
              "      <td>153.40</td>\n",
              "      <td>0.006399</td>\n",
              "      <td>0.04904</td>\n",
              "      <td>0.05373</td>\n",
              "      <td>0.01587</td>\n",
              "      <td>0.03003</td>\n",
              "      <td>0.006193</td>\n",
              "      <td>25.38</td>\n",
              "      <td>17.33</td>\n",
              "      <td>184.60</td>\n",
              "      <td>2019.0</td>\n",
              "      <td>0.1622</td>\n",
              "      <td>0.6656</td>\n",
              "      <td>0.7119</td>\n",
              "      <td>0.2654</td>\n",
              "      <td>0.4601</td>\n",
              "      <td>0.11890</td>\n",
              "    </tr>\n",
              "    <tr>\n",
              "      <th>1</th>\n",
              "      <td>20.57</td>\n",
              "      <td>17.77</td>\n",
              "      <td>132.90</td>\n",
              "      <td>1326.0</td>\n",
              "      <td>0.08474</td>\n",
              "      <td>0.07864</td>\n",
              "      <td>0.0869</td>\n",
              "      <td>0.07017</td>\n",
              "      <td>0.1812</td>\n",
              "      <td>0.05667</td>\n",
              "      <td>0.5435</td>\n",
              "      <td>0.7339</td>\n",
              "      <td>3.398</td>\n",
              "      <td>74.08</td>\n",
              "      <td>0.005225</td>\n",
              "      <td>0.01308</td>\n",
              "      <td>0.01860</td>\n",
              "      <td>0.01340</td>\n",
              "      <td>0.01389</td>\n",
              "      <td>0.003532</td>\n",
              "      <td>24.99</td>\n",
              "      <td>23.41</td>\n",
              "      <td>158.80</td>\n",
              "      <td>1956.0</td>\n",
              "      <td>0.1238</td>\n",
              "      <td>0.1866</td>\n",
              "      <td>0.2416</td>\n",
              "      <td>0.1860</td>\n",
              "      <td>0.2750</td>\n",
              "      <td>0.08902</td>\n",
              "    </tr>\n",
              "    <tr>\n",
              "      <th>2</th>\n",
              "      <td>19.69</td>\n",
              "      <td>21.25</td>\n",
              "      <td>130.00</td>\n",
              "      <td>1203.0</td>\n",
              "      <td>0.10960</td>\n",
              "      <td>0.15990</td>\n",
              "      <td>0.1974</td>\n",
              "      <td>0.12790</td>\n",
              "      <td>0.2069</td>\n",
              "      <td>0.05999</td>\n",
              "      <td>0.7456</td>\n",
              "      <td>0.7869</td>\n",
              "      <td>4.585</td>\n",
              "      <td>94.03</td>\n",
              "      <td>0.006150</td>\n",
              "      <td>0.04006</td>\n",
              "      <td>0.03832</td>\n",
              "      <td>0.02058</td>\n",
              "      <td>0.02250</td>\n",
              "      <td>0.004571</td>\n",
              "      <td>23.57</td>\n",
              "      <td>25.53</td>\n",
              "      <td>152.50</td>\n",
              "      <td>1709.0</td>\n",
              "      <td>0.1444</td>\n",
              "      <td>0.4245</td>\n",
              "      <td>0.4504</td>\n",
              "      <td>0.2430</td>\n",
              "      <td>0.3613</td>\n",
              "      <td>0.08758</td>\n",
              "    </tr>\n",
              "    <tr>\n",
              "      <th>3</th>\n",
              "      <td>11.42</td>\n",
              "      <td>20.38</td>\n",
              "      <td>77.58</td>\n",
              "      <td>386.1</td>\n",
              "      <td>0.14250</td>\n",
              "      <td>0.28390</td>\n",
              "      <td>0.2414</td>\n",
              "      <td>0.10520</td>\n",
              "      <td>0.2597</td>\n",
              "      <td>0.09744</td>\n",
              "      <td>0.4956</td>\n",
              "      <td>1.1560</td>\n",
              "      <td>3.445</td>\n",
              "      <td>27.23</td>\n",
              "      <td>0.009110</td>\n",
              "      <td>0.07458</td>\n",
              "      <td>0.05661</td>\n",
              "      <td>0.01867</td>\n",
              "      <td>0.05963</td>\n",
              "      <td>0.009208</td>\n",
              "      <td>14.91</td>\n",
              "      <td>26.50</td>\n",
              "      <td>98.87</td>\n",
              "      <td>567.7</td>\n",
              "      <td>0.2098</td>\n",
              "      <td>0.8663</td>\n",
              "      <td>0.6869</td>\n",
              "      <td>0.2575</td>\n",
              "      <td>0.6638</td>\n",
              "      <td>0.17300</td>\n",
              "    </tr>\n",
              "    <tr>\n",
              "      <th>4</th>\n",
              "      <td>20.29</td>\n",
              "      <td>14.34</td>\n",
              "      <td>135.10</td>\n",
              "      <td>1297.0</td>\n",
              "      <td>0.10030</td>\n",
              "      <td>0.13280</td>\n",
              "      <td>0.1980</td>\n",
              "      <td>0.10430</td>\n",
              "      <td>0.1809</td>\n",
              "      <td>0.05883</td>\n",
              "      <td>0.7572</td>\n",
              "      <td>0.7813</td>\n",
              "      <td>5.438</td>\n",
              "      <td>94.44</td>\n",
              "      <td>0.011490</td>\n",
              "      <td>0.02461</td>\n",
              "      <td>0.05688</td>\n",
              "      <td>0.01885</td>\n",
              "      <td>0.01756</td>\n",
              "      <td>0.005115</td>\n",
              "      <td>22.54</td>\n",
              "      <td>16.67</td>\n",
              "      <td>152.20</td>\n",
              "      <td>1575.0</td>\n",
              "      <td>0.1374</td>\n",
              "      <td>0.2050</td>\n",
              "      <td>0.4000</td>\n",
              "      <td>0.1625</td>\n",
              "      <td>0.2364</td>\n",
              "      <td>0.07678</td>\n",
              "    </tr>\n",
              "  </tbody>\n",
              "</table>\n",
              "</div>"
            ],
            "text/plain": [
              "   mean radius  mean texture  ...  worst symmetry  worst fractal dimension\n",
              "0        17.99         10.38  ...          0.4601                  0.11890\n",
              "1        20.57         17.77  ...          0.2750                  0.08902\n",
              "2        19.69         21.25  ...          0.3613                  0.08758\n",
              "3        11.42         20.38  ...          0.6638                  0.17300\n",
              "4        20.29         14.34  ...          0.2364                  0.07678\n",
              "\n",
              "[5 rows x 30 columns]"
            ]
          },
          "metadata": {},
          "execution_count": 5
        }
      ]
    },
    {
      "cell_type": "markdown",
      "metadata": {
        "id": "vdwKothG6ceZ"
      },
      "source": [
        "Como podemos ver, la informacion que se muestra es dificl de interpretar. Son muchos campos y valores que parecen no tener relacion entre sí. Es clara la dificultad que tenemos para visualizar informacion de alta dimensionalidad como en este caso, de ahí que el PCA puede ser muy útil para reducir esas dimensiones y encontrar los dos principales componentes, con lo que obtendríamos un nuevo espacio bidimensional. Este nuevo espacio es mucho mas fácil de interpretar y visualizar, por ejemplo con una gráfica de tipo scatter plot.\n",
        "Antes de hacer esto necesitamos estandarizar los datos para que cada atributo tenga la misma varianza.  "
      ]
    },
    {
      "cell_type": "code",
      "metadata": {
        "id": "gtc3BEWX8CrU"
      },
      "source": [
        "from sklearn.preprocessing import StandardScaler\n",
        "scale = StandardScaler()\n",
        "scale.fit(df)\n",
        "scaled_data = scale.transform(df) \n"
      ],
      "execution_count": 6,
      "outputs": []
    },
    {
      "cell_type": "markdown",
      "metadata": {
        "id": "ZVBxeEEzNcvw"
      },
      "source": [
        "## **Ejecución y visualización**"
      ]
    },
    {
      "cell_type": "markdown",
      "metadata": {
        "id": "wlZ6W3dR-iLZ"
      },
      "source": [
        "Ahora viene la parte crítica, se deben transformar los datos de cáncer de mama en treinta dimensiones a componentes principales de sólo dos dimensiones.\n",
        "Con una biblioteca de Scikit Learn, se importa el módulo PCA, y en su constructor se pasa el número de componentes que queremos mantenmer(n_components = 2). Finalmente se llama a fit_transform para cambiar los ejes y reducir las dimensiones.\n"
      ]
    },
    {
      "cell_type": "code",
      "metadata": {
        "colab": {
          "base_uri": "https://localhost:8080/"
        },
        "id": "LSmk72g-_EeB",
        "outputId": "ef6ebc59-8d6a-4ee1-c8e3-20856a415439"
      },
      "source": [
        "from sklearn.decomposition import PCA\n",
        "pca = PCA(n_components=2)\n",
        "pca.fit(scaled_data)"
      ],
      "execution_count": 7,
      "outputs": [
        {
          "output_type": "execute_result",
          "data": {
            "text/plain": [
              "PCA(n_components=2)"
            ]
          },
          "metadata": {},
          "execution_count": 7
        }
      ]
    },
    {
      "cell_type": "code",
      "metadata": {
        "colab": {
          "base_uri": "https://localhost:8080/"
        },
        "id": "j1oGxKbsAtqy",
        "outputId": "7fde86a1-d64f-45cf-c9ef-dc600161a3b2"
      },
      "source": [
        "x_pca = pca.transform(scaled_data)\n",
        "print(scaled_data.shape)\n",
        "print(x_pca.shape)"
      ],
      "execution_count": 8,
      "outputs": [
        {
          "output_type": "stream",
          "name": "stdout",
          "text": [
            "(569, 30)\n",
            "(569, 2)\n"
          ]
        }
      ]
    },
    {
      "cell_type": "markdown",
      "metadata": {
        "id": "9zZG1lK_Bna0"
      },
      "source": [
        "Aquí vemos que el PCA redujo las dimensiones de 30 a dos, manteniendo los 569 ejemplos del dataset original.\n",
        "\n",
        "\n"
      ]
    },
    {
      "cell_type": "code",
      "metadata": {
        "id": "oHk8BEuSReMm"
      },
      "source": [
        ""
      ],
      "execution_count": 9,
      "outputs": []
    },
    {
      "cell_type": "markdown",
      "metadata": {
        "id": "jRNlRvVkL8HO"
      },
      "source": [
        "\n",
        "\n",
        "---\n",
        "\n"
      ]
    },
    {
      "cell_type": "code",
      "metadata": {
        "colab": {
          "base_uri": "https://localhost:8080/"
        },
        "id": "L2BXTUMlFrJI",
        "outputId": "9fdb0562-5b83-432e-95fd-96e1ef80f6de"
      },
      "source": [
        "breast = load_breast_cancer()\n",
        "\n",
        "breast_data = breast.data\n",
        "breast_data.shape\n",
        "breast_labels = breast.target\n",
        "\n",
        "breast_labels.shape\n",
        "labels = np.reshape(breast_labels,(569,1))\n",
        "final_breast_data = np.concatenate([breast_data,labels],axis=1)\n",
        "\n",
        "final_breast_data.shape\n",
        "breast_dataset = pd.DataFrame(final_breast_data)\n",
        "features = breast.feature_names\n",
        "features_labels = np.append(features,'label')\n",
        "breast_dataset.columns = features_labels\n",
        "breast_dataset['label'].replace(0, 'Benigno',inplace=True)\n",
        "breast_dataset['label'].replace(1, 'Maligno',inplace=True)\n",
        "from sklearn.preprocessing import StandardScaler\n",
        "x = breast_dataset.loc[:, features].values\n",
        "x = StandardScaler().fit_transform(x) # normalizing the features\n",
        "feat_cols = ['feature'+str(i) for i in range(x.shape[1])]\n",
        "normalised_breast = pd.DataFrame(x,columns=feat_cols)\n",
        "from sklearn.decomposition import PCA\n",
        "pca_breast = PCA(n_components=2)\n",
        "principalComponents_breast = pca_breast.fit_transform(x)\n",
        "\n",
        "principal_breast_Df = pd.DataFrame(data = principalComponents_breast\n",
        "             , columns = ['componente principal  1', 'componente principal 2'])\n",
        "print('Variacion de información por componente proincipal: {}'.format(pca_breast.explained_variance_ratio_))\n"
      ],
      "execution_count": 10,
      "outputs": [
        {
          "output_type": "stream",
          "name": "stdout",
          "text": [
            "Variacion de información por componente proincipal: [0.44272026 0.18971182]\n"
          ]
        }
      ]
    },
    {
      "cell_type": "markdown",
      "metadata": {
        "id": "22hHF7F_Ltpn"
      },
      "source": [
        "A partir del resultado anterior, se puede observar que el componente principal 1 contiene el 44,2% de la información, mientras que el componente principal 2 contiene sólo el 19%. Además, el otro punto a tener en cuenta es que al proyectar datos de treinta dimensiones a datos de dos dimensiones, se perdió un 36,8% de información.\n",
        "A modo de ejemplo, si generamos 5 componentes principales, vemos que el tercero retiene menos del 10%, con lo cual no tiene sentido elegir mas de dos, ya que solo difultaria la interpretación de los datos.\n",
        "\n",
        "\n",
        "![image.png](data:image/png;base64,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)"
      ]
    },
    {
      "cell_type": "markdown",
      "metadata": {
        "id": "ng5M25m04Apw"
      },
      "source": [
        "## **Interpretando los resultados**"
      ]
    },
    {
      "cell_type": "markdown",
      "metadata": {
        "id": "mQOT5k6z3Y-I"
      },
      "source": [
        "Para poder visualizar la nueva información, podemos graficar las 569 muestras a lo largo del eje del componente principal 1 y del componente principal 2. Esto debería darnos una buena idea de cómo se distribuyen los ejemplos entre las dos clases.\n"
      ]
    },
    {
      "cell_type": "code",
      "metadata": {
        "colab": {
          "base_uri": "https://localhost:8080/",
          "height": 673
        },
        "id": "GFOV7y-gGfHT",
        "outputId": "9244f849-9c8a-4aaa-ca04-6a52ad44abd9"
      },
      "source": [
        "plt.figure()\n",
        "plt.figure(figsize=(10,10))\n",
        "plt.xticks(fontsize=12)\n",
        "plt.yticks(fontsize=14)\n",
        "plt.xlabel('Componente principal 1',fontsize=20)\n",
        "plt.ylabel('Componente principal 2',fontsize=20)\n",
        "plt.title(\"PCA del Breast Cancer Dataset\",fontsize=20)\n",
        "targets = ['Benigno', 'Maligno']\n",
        "colors = ['r', 'g']\n",
        "for target, color in zip(targets,colors):\n",
        "    indicesToKeep = breast_dataset['label'] == target\n",
        "    plt.scatter(principal_breast_Df.loc[indicesToKeep, 'componente principal  1']\n",
        "               , principal_breast_Df.loc[indicesToKeep, 'componente principal 2'], c = color, s = 50)\n",
        "\n",
        "plt.legend(targets,prop={'size': 15})"
      ],
      "execution_count": 11,
      "outputs": [
        {
          "output_type": "execute_result",
          "data": {
            "text/plain": [
              "<matplotlib.legend.Legend at 0x7f1b76853c50>"
            ]
          },
          "metadata": {},
          "execution_count": 11
        },
        {
          "output_type": "display_data",
          "data": {
            "text/plain": [
              "<Figure size 432x288 with 0 Axes>"
            ]
          },
          "metadata": {}
        },
        {
          "output_type": "display_data",
          "data": {
            "image/png": "[encoded data removed]",
            "text/plain": [
              "<Figure size 720x720 with 1 Axes>"
            ]
          },
          "metadata": {
            "needs_background": "light"
          }
        }
      ]
    },
    {
      "cell_type": "markdown",
      "metadata": {
        "id": "xBvE0p7TJ5s9"
      },
      "source": [
        "De la gráfica anterior, podemos ver que las dos clases benignas y malignas, cuando se proyectan en un espacio bidimensional, pueden separarse linealmente hasta cierto punto. \n",
        "Otra detalle que se puede observar es que la clase maligna está diseminada en comparación con la clase benigna que se concentra más en un área determinada. \n",
        "Luego hay una zona donde se juntan ambos grupos, en que la separacion de una u otra clase no es muy clara. Esos puntos son criticos y se deben estudiar con sumo cuidado, porque estan en una zona donde el hecho de decidir a que cluster pertenece marca una diferencia enorme sobre cual sera el tratamiento o no del paciente, y sus consecuencias. Seguramente en esos casos el medico deberá realizar exámenes adicionales, o contrastar con otra informacion."
      ]
    },
    {
      "cell_type": "markdown",
      "metadata": {
        "id": "xoQzFAaltBqz"
      },
      "source": [
        "Como se había mencionado anteriormente, la capacidad de reducir dimensiones tiene el costo asociado de que no es\n",
        "fácil interpretar la informacion que representan los componentes principales.\n",
        "Si quisiéramos ver qué hay dentro cada componentes, lo que encontraremos es un array en el que cada fila respresenta un componente principal y cada columna se mapea a un atributo del dataset original. El valor almacenado es el peso que tiene cada atributo de ese componente."
      ]
    },
    {
      "cell_type": "code",
      "metadata": {
        "colab": {
          "base_uri": "https://localhost:8080/"
        },
        "id": "JvZr1cMotjG5",
        "outputId": "7f9a793c-1d4f-4ec9-d7a8-dc9f58da95cc"
      },
      "source": [
        "pca.components_"
      ],
      "execution_count": 12,
      "outputs": [
        {
          "output_type": "execute_result",
          "data": {
            "text/plain": [
              "array([[ 0.21890244,  0.10372458,  0.22753729,  0.22099499,  0.14258969,\n",
              "         0.23928535,  0.25840048,  0.26085376,  0.13816696,  0.06436335,\n",
              "         0.20597878,  0.01742803,  0.21132592,  0.20286964,  0.01453145,\n",
              "         0.17039345,  0.15358979,  0.1834174 ,  0.04249842,  0.10256832,\n",
              "         0.22799663,  0.10446933,  0.23663968,  0.22487053,  0.12795256,\n",
              "         0.21009588,  0.22876753,  0.25088597,  0.12290456,  0.13178394],\n",
              "       [-0.23385713, -0.05970609, -0.21518136, -0.23107671,  0.18611302,\n",
              "         0.15189161,  0.06016536, -0.0347675 ,  0.19034877,  0.36657547,\n",
              "        -0.10555215,  0.08997968, -0.08945723, -0.15229263,  0.20443045,\n",
              "         0.2327159 ,  0.19720728,  0.13032156,  0.183848  ,  0.28009203,\n",
              "        -0.21986638, -0.0454673 , -0.19987843, -0.21935186,  0.17230435,\n",
              "         0.14359317,  0.09796411, -0.00825724,  0.14188335,  0.27533947]])"
            ]
          },
          "metadata": {},
          "execution_count": 12
        }
      ]
    },
    {
      "cell_type": "code",
      "metadata": {
        "id": "4DmFf0XxuwpH"
      },
      "source": [
        "Para poder visualizar y entender qué significan estos datos, tenemos que ir hacia atrás y llegar \n",
        "a los atributos originales. Procedemos a visualizar la informacion almacenada en el array mediante un heatmap. "
      ],
      "execution_count": null,
      "outputs": []
    },
    {
      "cell_type": "code",
      "metadata": {
        "colab": {
          "base_uri": "https://localhost:8080/",
          "height": 500
        },
        "id": "xaUaa1dlzPsf",
        "outputId": "6064d613-6d2c-455e-bdf1-ad95620a2923"
      },
      "source": [
        "df_comp = pd.DataFrame(pca.components_, columns=breast['feature_names'])\n",
        "plt.figure(figsize=(12,6))\n",
        "sns.heatmap(df_comp,cmap='crest',)"
      ],
      "execution_count": 30,
      "outputs": [
        {
          "output_type": "execute_result",
          "data": {
            "text/plain": [
              "<matplotlib.axes._subplots.AxesSubplot at 0x7f1b6cd28190>"
            ]
          },
          "metadata": {},
          "execution_count": 30
        },
        {
          "output_type": "display_data",
          "data": {
            "image/png": "[encoded data removed]",
            "text/plain": [
              "<Figure size 864x432 with 2 Axes>"
            ]
          },
          "metadata": {
            "needs_background": "light"
          }
        }
      ]
    },
    {
      "cell_type": "code",
      "metadata": {
        "id": "Hyyie0oA0Mpg"
      },
      "source": [
        "El heatmap y la barra de colores de la derecha básicamente representan la correlacion entre los atributos y cada componente \n",
        "principal, asi como la importancia que cada atributo tiene en el nuevo dimensionamiento. "
      ],
      "execution_count": null,
      "outputs": []
    }
  ]
}